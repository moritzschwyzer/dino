{
  "nbformat": 4,
  "nbformat_minor": 0,
  "metadata": {
    "colab": {
      "name": "Medical Dino.ipynb",
      "provenance": [],
      "authorship_tag": "ABX9TyPwkSe6oFFr6buleosvkCUR"
    },
    "kernelspec": {
      "name": "python3",
      "display_name": "Python 3"
    },
    "language_info": {
      "name": "python"
    }
  },
  "cells": [
    {
      "cell_type": "code",
      "execution_count": null,
      "metadata": {
        "id": "n9wQahNTqaAp"
      },
      "outputs": [],
      "source": [
        ""
      ]
    }
  ]
}